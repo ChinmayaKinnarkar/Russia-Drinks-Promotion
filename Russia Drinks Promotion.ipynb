{
 "cells": [
  {
   "cell_type": "markdown",
   "id": "aboriginal-address",
   "metadata": {
    "id": "bA5ajAmk7XH6"
   },
   "source": [
    "# Where should a drinks company run promotions?\n",
    "\n",
    "## 📖 Background\n",
    "Your company owns a chain of stores across Russia that sell a variety of alcoholic drinks. The company recently ran a wine promotion in Saint Petersburg that was very successful. Due to the cost to the business, it isn’t possible to run the promotion in all regions. The marketing team would like to target 10 other regions that have similar buying habits to Saint Petersburg where they would expect the promotion to be similarly successful.\n",
    "\n",
    "### The data\n",
    "The marketing team has sourced you with historical sales volumes per capita for several different drinks types.\n",
    "\n",
    "- \"year\" - year (1998-2016)\n",
    "- \"region\" - name of a federal subject of Russia. It could be oblast, republic, krai, autonomous okrug, federal city and a single autonomous oblast\n",
    "- \"wine\" - sale of wine in litres by year per capita\n",
    "- \"beer\" - sale of beer in litres by year per capita\n",
    "- \"vodka\" - sale of vodka in litres by year per capita\n",
    "- \"champagne\" - sale of champagne in litres by year per capita\n",
    "- \"brandy\" - sale of brandy in litres by year per capita"
   ]
  },
  {
   "cell_type": "code",
   "execution_count": 1,
   "id": "labeled-fourth",
   "metadata": {},
   "outputs": [
    {
     "data": {
      "text/html": [
       "<div>\n",
       "<style scoped>\n",
       "    .dataframe tbody tr th:only-of-type {\n",
       "        vertical-align: middle;\n",
       "    }\n",
       "\n",
       "    .dataframe tbody tr th {\n",
       "        vertical-align: top;\n",
       "    }\n",
       "\n",
       "    .dataframe thead th {\n",
       "        text-align: right;\n",
       "    }\n",
       "</style>\n",
       "<table border=\"1\" class=\"dataframe\">\n",
       "  <thead>\n",
       "    <tr style=\"text-align: right;\">\n",
       "      <th></th>\n",
       "      <th>year</th>\n",
       "      <th>region</th>\n",
       "      <th>wine</th>\n",
       "      <th>beer</th>\n",
       "      <th>vodka</th>\n",
       "      <th>champagne</th>\n",
       "      <th>brandy</th>\n",
       "    </tr>\n",
       "  </thead>\n",
       "  <tbody>\n",
       "    <tr>\n",
       "      <th>0</th>\n",
       "      <td>1998</td>\n",
       "      <td>Republic of Adygea</td>\n",
       "      <td>1.9</td>\n",
       "      <td>8.8</td>\n",
       "      <td>3.4</td>\n",
       "      <td>0.3</td>\n",
       "      <td>0.1</td>\n",
       "    </tr>\n",
       "    <tr>\n",
       "      <th>1</th>\n",
       "      <td>1998</td>\n",
       "      <td>Altai Krai</td>\n",
       "      <td>3.3</td>\n",
       "      <td>19.2</td>\n",
       "      <td>11.3</td>\n",
       "      <td>1.1</td>\n",
       "      <td>0.1</td>\n",
       "    </tr>\n",
       "    <tr>\n",
       "      <th>2</th>\n",
       "      <td>1998</td>\n",
       "      <td>Amur Oblast</td>\n",
       "      <td>2.1</td>\n",
       "      <td>21.2</td>\n",
       "      <td>17.3</td>\n",
       "      <td>0.7</td>\n",
       "      <td>0.4</td>\n",
       "    </tr>\n",
       "    <tr>\n",
       "      <th>3</th>\n",
       "      <td>1998</td>\n",
       "      <td>Arkhangelsk Oblast</td>\n",
       "      <td>4.3</td>\n",
       "      <td>10.6</td>\n",
       "      <td>11.7</td>\n",
       "      <td>0.4</td>\n",
       "      <td>0.3</td>\n",
       "    </tr>\n",
       "    <tr>\n",
       "      <th>4</th>\n",
       "      <td>1998</td>\n",
       "      <td>Astrakhan Oblast</td>\n",
       "      <td>2.9</td>\n",
       "      <td>18.0</td>\n",
       "      <td>9.5</td>\n",
       "      <td>0.8</td>\n",
       "      <td>0.2</td>\n",
       "    </tr>\n",
       "  </tbody>\n",
       "</table>\n",
       "</div>"
      ],
      "text/plain": [
       "   year              region  wine  beer  vodka  champagne  brandy\n",
       "0  1998  Republic of Adygea   1.9   8.8    3.4        0.3     0.1\n",
       "1  1998          Altai Krai   3.3  19.2   11.3        1.1     0.1\n",
       "2  1998         Amur Oblast   2.1  21.2   17.3        0.7     0.4\n",
       "3  1998  Arkhangelsk Oblast   4.3  10.6   11.7        0.4     0.3\n",
       "4  1998    Astrakhan Oblast   2.9  18.0    9.5        0.8     0.2"
      ]
     },
     "execution_count": 1,
     "metadata": {},
     "output_type": "execute_result"
    }
   ],
   "source": [
    "import pandas as pd\n",
    "df = pd.read_csv(r'./data/russian_alcohol_consumption.csv')\n",
    "df.head()"
   ]
  },
  {
   "cell_type": "markdown",
   "id": "ac0affa3-1db5-471d-a77d-32d5102febb8",
   "metadata": {},
   "source": [
    "# Importing libraries\n",
    "\n",
    "Let us import some basic libraries to start off with. We will then be reading the data and cleaning it.<br>Let's begin!"
   ]
  },
  {
   "cell_type": "code",
   "execution_count": 2,
   "id": "accurate-helicopter",
   "metadata": {},
   "outputs": [],
   "source": [
    "import numpy as np\n",
    "import pandas as pd\n",
    "import matplotlib.pyplot as plt\n",
    "import seaborn as sns"
   ]
  },
  {
   "cell_type": "markdown",
   "id": "969ecf4e-8d63-4ac2-bef6-30f13f32fbe3",
   "metadata": {},
   "source": [
    "# Reading the data\n",
    "\n",
    "Let us read the data given by using read_csv function and convert it into a pandas dataframe. We will then copy this data into variable russia_df as we don't want to alter the main csv file yet for our analysis."
   ]
  },
  {
   "cell_type": "code",
   "execution_count": 3,
   "id": "969d62ff-0284-4f84-8edd-8f3114fe5753",
   "metadata": {},
   "outputs": [
    {
     "data": {
      "text/plain": [
       "(1615, 7)"
      ]
     },
     "execution_count": 3,
     "metadata": {},
     "output_type": "execute_result"
    }
   ],
   "source": [
    "# Reading the csv file\n",
    "df = pd.read_csv('data/russian_alcohol_consumption.csv')\n",
    "\n",
    "#Copy csv file into variable russia_df\n",
    "russia_df = df.copy()\n",
    "\n",
    "# Use shape to understand the amount of data that we have at hand\n",
    "russia_df.shape"
   ]
  },
  {
   "cell_type": "markdown",
   "id": "50b6d9c1-51c7-407d-b267-144e65c6f39d",
   "metadata": {},
   "source": [
    "# Let's view the data\n",
    "\n",
    "In this step we will view the data to understand how it looks like. "
   ]
  },
  {
   "cell_type": "code",
   "execution_count": 4,
   "id": "092a0c1e-2cdc-4d79-89d5-cc3ff8e2be81",
   "metadata": {},
   "outputs": [
    {
     "data": {
      "text/html": [
       "<div>\n",
       "<style scoped>\n",
       "    .dataframe tbody tr th:only-of-type {\n",
       "        vertical-align: middle;\n",
       "    }\n",
       "\n",
       "    .dataframe tbody tr th {\n",
       "        vertical-align: top;\n",
       "    }\n",
       "\n",
       "    .dataframe thead th {\n",
       "        text-align: right;\n",
       "    }\n",
       "</style>\n",
       "<table border=\"1\" class=\"dataframe\">\n",
       "  <thead>\n",
       "    <tr style=\"text-align: right;\">\n",
       "      <th></th>\n",
       "      <th>year</th>\n",
       "      <th>region</th>\n",
       "      <th>wine</th>\n",
       "      <th>beer</th>\n",
       "      <th>vodka</th>\n",
       "      <th>champagne</th>\n",
       "      <th>brandy</th>\n",
       "    </tr>\n",
       "  </thead>\n",
       "  <tbody>\n",
       "    <tr>\n",
       "      <th>0</th>\n",
       "      <td>1998</td>\n",
       "      <td>Republic of Adygea</td>\n",
       "      <td>1.9</td>\n",
       "      <td>8.8</td>\n",
       "      <td>3.4</td>\n",
       "      <td>0.3</td>\n",
       "      <td>0.1</td>\n",
       "    </tr>\n",
       "    <tr>\n",
       "      <th>1</th>\n",
       "      <td>1998</td>\n",
       "      <td>Altai Krai</td>\n",
       "      <td>3.3</td>\n",
       "      <td>19.2</td>\n",
       "      <td>11.3</td>\n",
       "      <td>1.1</td>\n",
       "      <td>0.1</td>\n",
       "    </tr>\n",
       "    <tr>\n",
       "      <th>2</th>\n",
       "      <td>1998</td>\n",
       "      <td>Amur Oblast</td>\n",
       "      <td>2.1</td>\n",
       "      <td>21.2</td>\n",
       "      <td>17.3</td>\n",
       "      <td>0.7</td>\n",
       "      <td>0.4</td>\n",
       "    </tr>\n",
       "    <tr>\n",
       "      <th>3</th>\n",
       "      <td>1998</td>\n",
       "      <td>Arkhangelsk Oblast</td>\n",
       "      <td>4.3</td>\n",
       "      <td>10.6</td>\n",
       "      <td>11.7</td>\n",
       "      <td>0.4</td>\n",
       "      <td>0.3</td>\n",
       "    </tr>\n",
       "    <tr>\n",
       "      <th>4</th>\n",
       "      <td>1998</td>\n",
       "      <td>Astrakhan Oblast</td>\n",
       "      <td>2.9</td>\n",
       "      <td>18.0</td>\n",
       "      <td>9.5</td>\n",
       "      <td>0.8</td>\n",
       "      <td>0.2</td>\n",
       "    </tr>\n",
       "    <tr>\n",
       "      <th>...</th>\n",
       "      <td>...</td>\n",
       "      <td>...</td>\n",
       "      <td>...</td>\n",
       "      <td>...</td>\n",
       "      <td>...</td>\n",
       "      <td>...</td>\n",
       "      <td>...</td>\n",
       "    </tr>\n",
       "    <tr>\n",
       "      <th>1610</th>\n",
       "      <td>2016</td>\n",
       "      <td>Chuvash Republic</td>\n",
       "      <td>5.0</td>\n",
       "      <td>42.3</td>\n",
       "      <td>7.7</td>\n",
       "      <td>0.7</td>\n",
       "      <td>0.4</td>\n",
       "    </tr>\n",
       "    <tr>\n",
       "      <th>1611</th>\n",
       "      <td>2016</td>\n",
       "      <td>Chukotka Autonomous Okrug</td>\n",
       "      <td>3.9</td>\n",
       "      <td>34.0</td>\n",
       "      <td>11.6</td>\n",
       "      <td>1.8</td>\n",
       "      <td>1.1</td>\n",
       "    </tr>\n",
       "    <tr>\n",
       "      <th>1612</th>\n",
       "      <td>2016</td>\n",
       "      <td>Sakha (Yakutia) Republic</td>\n",
       "      <td>4.3</td>\n",
       "      <td>56.1</td>\n",
       "      <td>8.2</td>\n",
       "      <td>1.8</td>\n",
       "      <td>0.5</td>\n",
       "    </tr>\n",
       "    <tr>\n",
       "      <th>1613</th>\n",
       "      <td>2016</td>\n",
       "      <td>Yamalo-Nenets Autonomous Okrug</td>\n",
       "      <td>4.5</td>\n",
       "      <td>75.8</td>\n",
       "      <td>8.2</td>\n",
       "      <td>1.7</td>\n",
       "      <td>1.3</td>\n",
       "    </tr>\n",
       "    <tr>\n",
       "      <th>1614</th>\n",
       "      <td>2016</td>\n",
       "      <td>Yaroslavl Oblast</td>\n",
       "      <td>10.2</td>\n",
       "      <td>38.0</td>\n",
       "      <td>8.9</td>\n",
       "      <td>1.4</td>\n",
       "      <td>1.0</td>\n",
       "    </tr>\n",
       "  </tbody>\n",
       "</table>\n",
       "<p>1615 rows × 7 columns</p>\n",
       "</div>"
      ],
      "text/plain": [
       "      year                          region  wine  beer  vodka  champagne  \\\n",
       "0     1998              Republic of Adygea   1.9   8.8    3.4        0.3   \n",
       "1     1998                      Altai Krai   3.3  19.2   11.3        1.1   \n",
       "2     1998                     Amur Oblast   2.1  21.2   17.3        0.7   \n",
       "3     1998              Arkhangelsk Oblast   4.3  10.6   11.7        0.4   \n",
       "4     1998                Astrakhan Oblast   2.9  18.0    9.5        0.8   \n",
       "...    ...                             ...   ...   ...    ...        ...   \n",
       "1610  2016                Chuvash Republic   5.0  42.3    7.7        0.7   \n",
       "1611  2016       Chukotka Autonomous Okrug   3.9  34.0   11.6        1.8   \n",
       "1612  2016        Sakha (Yakutia) Republic   4.3  56.1    8.2        1.8   \n",
       "1613  2016  Yamalo-Nenets Autonomous Okrug   4.5  75.8    8.2        1.7   \n",
       "1614  2016                Yaroslavl Oblast  10.2  38.0    8.9        1.4   \n",
       "\n",
       "      brandy  \n",
       "0        0.1  \n",
       "1        0.1  \n",
       "2        0.4  \n",
       "3        0.3  \n",
       "4        0.2  \n",
       "...      ...  \n",
       "1610     0.4  \n",
       "1611     1.1  \n",
       "1612     0.5  \n",
       "1613     1.3  \n",
       "1614     1.0  \n",
       "\n",
       "[1615 rows x 7 columns]"
      ]
     },
     "execution_count": 4,
     "metadata": {},
     "output_type": "execute_result"
    }
   ],
   "source": [
    "# view the data\n",
    "russia_df"
   ]
  },
  {
   "cell_type": "markdown",
   "id": "a5d390e0-b55f-473c-ad23-afb52ee43f69",
   "metadata": {},
   "source": [
    "## Let's view the data type\n",
    "\n",
    "We have seen above our data contains 7 columns which includes year, region and different categories of alcohol consumed. Now let's view the data type for each column."
   ]
  },
  {
   "cell_type": "code",
   "execution_count": 5,
   "id": "0713f1fe-98af-4a7c-b2ed-7a160f1ed113",
   "metadata": {},
   "outputs": [
    {
     "name": "stdout",
     "output_type": "stream",
     "text": [
      "<class 'pandas.core.frame.DataFrame'>\n",
      "RangeIndex: 1615 entries, 0 to 1614\n",
      "Data columns (total 7 columns):\n",
      " #   Column     Non-Null Count  Dtype  \n",
      "---  ------     --------------  -----  \n",
      " 0   year       1615 non-null   int64  \n",
      " 1   region     1615 non-null   object \n",
      " 2   wine       1552 non-null   float64\n",
      " 3   beer       1557 non-null   float64\n",
      " 4   vodka      1554 non-null   float64\n",
      " 5   champagne  1552 non-null   float64\n",
      " 6   brandy     1549 non-null   float64\n",
      "dtypes: float64(5), int64(1), object(1)\n",
      "memory usage: 88.4+ KB\n"
     ]
    }
   ],
   "source": [
    "# View data type\n",
    "russia_df.info()"
   ]
  },
  {
   "cell_type": "markdown",
   "id": "8762a760-c5be-45f6-aa83-72970f724b87",
   "metadata": {
    "tags": []
   },
   "source": [
    "# Cleaning the data\n",
    "\n",
    "Now that we have looked at the data and data type, it becomes easier to understand the data. Let us now try to find if there are any null values which will cause an imbalance in our analysis."
   ]
  },
  {
   "cell_type": "code",
   "execution_count": 6,
   "id": "f0ace8c0-8f01-4d50-a5db-d46dc1ebd7d0",
   "metadata": {},
   "outputs": [
    {
     "data": {
      "text/plain": [
       "year          0\n",
       "region        0\n",
       "wine         63\n",
       "beer         58\n",
       "vodka        61\n",
       "champagne    63\n",
       "brandy       66\n",
       "dtype: int64"
      ]
     },
     "execution_count": 6,
     "metadata": {},
     "output_type": "execute_result"
    }
   ],
   "source": [
    "# Check for null values\n",
    "russia_df.isnull().sum()"
   ]
  },
  {
   "cell_type": "markdown",
   "id": "ab0f4d39-7a17-4ee1-b978-8c1d4c755262",
   "metadata": {},
   "source": [
    "## Handling null values\n",
    "\n",
    "We can see there are 63 null values in wine, which means there are 63 instances where there is no value for wine consumed. The count of null values for other categories can be seen above. We will now proceed to fill this null value with an actual number.\n",
    "<br><br>\n",
    "Since these are null values, we will replace it with zero to help with analysis. After replacing null, we will again check if there are any other null values to be taken care of or we are good to go."
   ]
  },
  {
   "cell_type": "code",
   "execution_count": 7,
   "id": "cb047d41-d6a4-4306-bca5-d797274f6c85",
   "metadata": {},
   "outputs": [
    {
     "data": {
      "text/plain": [
       "year         0\n",
       "region       0\n",
       "wine         0\n",
       "beer         0\n",
       "vodka        0\n",
       "champagne    0\n",
       "brandy       0\n",
       "dtype: int64"
      ]
     },
     "execution_count": 7,
     "metadata": {},
     "output_type": "execute_result"
    }
   ],
   "source": [
    "#replace missing values\n",
    "russia_df.fillna({'wine':0.0,'beer':0.0,'vodka':0.0,'champagne':0.0,'brandy':0.0},inplace=True)\n",
    "russia_df.isnull().sum()"
   ]
  },
  {
   "cell_type": "markdown",
   "id": "58b3e2f5-dfe0-4fdd-803d-98609cfc3769",
   "metadata": {},
   "source": [
    "## One more step before we begin with the analysis!\n",
    "\n",
    "Our data is from year 1998 to 2016.Since we are not using the years data currently in our analysis so let's drop that column."
   ]
  },
  {
   "cell_type": "code",
   "execution_count": 8,
   "id": "f7e3046e-45e2-4b42-98db-8ccf7e104d75",
   "metadata": {},
   "outputs": [],
   "source": [
    "# Since we are not going to use year in our analysis to find top 10 regions thus dropping it.\n",
    "russia_df.drop(columns='year',inplace=True)"
   ]
  },
  {
   "cell_type": "markdown",
   "id": "98f060b3-9aba-43fd-9d4e-1e12099abbe0",
   "metadata": {},
   "source": [
    "## Analysis stage!\n",
    "\n"
   ]
  },
  {
   "cell_type": "code",
   "execution_count": 9,
   "id": "9e4e4de7-578d-47b8-9618-a8db1ac0d12b",
   "metadata": {},
   "outputs": [
    {
     "data": {
      "text/html": [
       "<div>\n",
       "<style scoped>\n",
       "    .dataframe tbody tr th:only-of-type {\n",
       "        vertical-align: middle;\n",
       "    }\n",
       "\n",
       "    .dataframe tbody tr th {\n",
       "        vertical-align: top;\n",
       "    }\n",
       "\n",
       "    .dataframe thead th {\n",
       "        text-align: right;\n",
       "    }\n",
       "</style>\n",
       "<table border=\"1\" class=\"dataframe\">\n",
       "  <thead>\n",
       "    <tr style=\"text-align: right;\">\n",
       "      <th></th>\n",
       "      <th>wine</th>\n",
       "      <th>beer</th>\n",
       "      <th>vodka</th>\n",
       "      <th>champagne</th>\n",
       "      <th>brandy</th>\n",
       "      <th>total_alcohol_consumption</th>\n",
       "    </tr>\n",
       "    <tr>\n",
       "      <th>region</th>\n",
       "      <th></th>\n",
       "      <th></th>\n",
       "      <th></th>\n",
       "      <th></th>\n",
       "      <th></th>\n",
       "      <th></th>\n",
       "    </tr>\n",
       "  </thead>\n",
       "  <tbody>\n",
       "    <tr>\n",
       "      <th>Moscow</th>\n",
       "      <td>140.25</td>\n",
       "      <td>1590.08</td>\n",
       "      <td>361.42</td>\n",
       "      <td>83.34</td>\n",
       "      <td>23.90</td>\n",
       "      <td>2198.99</td>\n",
       "    </tr>\n",
       "    <tr>\n",
       "      <th>Saint Petersburg</th>\n",
       "      <td>132.10</td>\n",
       "      <td>1603.13</td>\n",
       "      <td>224.61</td>\n",
       "      <td>46.91</td>\n",
       "      <td>21.23</td>\n",
       "      <td>2027.98</td>\n",
       "    </tr>\n",
       "    <tr>\n",
       "      <th>Yamalo-Nenets Autonomous Okrug</th>\n",
       "      <td>100.93</td>\n",
       "      <td>1522.62</td>\n",
       "      <td>286.77</td>\n",
       "      <td>28.23</td>\n",
       "      <td>18.08</td>\n",
       "      <td>1956.63</td>\n",
       "    </tr>\n",
       "    <tr>\n",
       "      <th>Tyumen Oblast</th>\n",
       "      <td>105.30</td>\n",
       "      <td>1462.05</td>\n",
       "      <td>281.69</td>\n",
       "      <td>27.10</td>\n",
       "      <td>15.99</td>\n",
       "      <td>1892.13</td>\n",
       "    </tr>\n",
       "    <tr>\n",
       "      <th>Komi Republic</th>\n",
       "      <td>175.25</td>\n",
       "      <td>1249.14</td>\n",
       "      <td>392.43</td>\n",
       "      <td>32.25</td>\n",
       "      <td>15.39</td>\n",
       "      <td>1864.46</td>\n",
       "    </tr>\n",
       "    <tr>\n",
       "      <th>Khanty–Mansi Autonomous Okrug – Yugra</th>\n",
       "      <td>101.09</td>\n",
       "      <td>1403.06</td>\n",
       "      <td>285.23</td>\n",
       "      <td>27.49</td>\n",
       "      <td>17.56</td>\n",
       "      <td>1834.43</td>\n",
       "    </tr>\n",
       "    <tr>\n",
       "      <th>Chelyabinsk Oblast</th>\n",
       "      <td>131.94</td>\n",
       "      <td>1408.80</td>\n",
       "      <td>245.93</td>\n",
       "      <td>27.84</td>\n",
       "      <td>10.65</td>\n",
       "      <td>1825.16</td>\n",
       "    </tr>\n",
       "    <tr>\n",
       "      <th>Vologda Oblast</th>\n",
       "      <td>177.24</td>\n",
       "      <td>1276.93</td>\n",
       "      <td>327.14</td>\n",
       "      <td>16.29</td>\n",
       "      <td>9.84</td>\n",
       "      <td>1807.44</td>\n",
       "    </tr>\n",
       "    <tr>\n",
       "      <th>Sverdlovsk Oblast</th>\n",
       "      <td>140.27</td>\n",
       "      <td>1367.22</td>\n",
       "      <td>257.71</td>\n",
       "      <td>25.85</td>\n",
       "      <td>13.10</td>\n",
       "      <td>1804.15</td>\n",
       "    </tr>\n",
       "    <tr>\n",
       "      <th>Ivanovo Oblast</th>\n",
       "      <td>137.51</td>\n",
       "      <td>1387.02</td>\n",
       "      <td>234.84</td>\n",
       "      <td>17.97</td>\n",
       "      <td>7.05</td>\n",
       "      <td>1784.39</td>\n",
       "    </tr>\n",
       "    <tr>\n",
       "      <th>Khabarovsk Krai</th>\n",
       "      <td>99.19</td>\n",
       "      <td>1333.64</td>\n",
       "      <td>292.17</td>\n",
       "      <td>37.58</td>\n",
       "      <td>13.39</td>\n",
       "      <td>1775.97</td>\n",
       "    </tr>\n",
       "  </tbody>\n",
       "</table>\n",
       "</div>"
      ],
      "text/plain": [
       "                                         wine     beer   vodka  champagne  \\\n",
       "region                                                                      \n",
       "Moscow                                 140.25  1590.08  361.42      83.34   \n",
       "Saint Petersburg                       132.10  1603.13  224.61      46.91   \n",
       "Yamalo-Nenets Autonomous Okrug         100.93  1522.62  286.77      28.23   \n",
       "Tyumen Oblast                          105.30  1462.05  281.69      27.10   \n",
       "Komi Republic                          175.25  1249.14  392.43      32.25   \n",
       "Khanty–Mansi Autonomous Okrug – Yugra  101.09  1403.06  285.23      27.49   \n",
       "Chelyabinsk Oblast                     131.94  1408.80  245.93      27.84   \n",
       "Vologda Oblast                         177.24  1276.93  327.14      16.29   \n",
       "Sverdlovsk Oblast                      140.27  1367.22  257.71      25.85   \n",
       "Ivanovo Oblast                         137.51  1387.02  234.84      17.97   \n",
       "Khabarovsk Krai                         99.19  1333.64  292.17      37.58   \n",
       "\n",
       "                                       brandy  total_alcohol_consumption  \n",
       "region                                                                    \n",
       "Moscow                                  23.90                    2198.99  \n",
       "Saint Petersburg                        21.23                    2027.98  \n",
       "Yamalo-Nenets Autonomous Okrug          18.08                    1956.63  \n",
       "Tyumen Oblast                           15.99                    1892.13  \n",
       "Komi Republic                           15.39                    1864.46  \n",
       "Khanty–Mansi Autonomous Okrug – Yugra   17.56                    1834.43  \n",
       "Chelyabinsk Oblast                      10.65                    1825.16  \n",
       "Vologda Oblast                           9.84                    1807.44  \n",
       "Sverdlovsk Oblast                       13.10                    1804.15  \n",
       "Ivanovo Oblast                           7.05                    1784.39  \n",
       "Khabarovsk Krai                         13.39                    1775.97  "
      ]
     },
     "execution_count": 9,
     "metadata": {},
     "output_type": "execute_result"
    }
   ],
   "source": [
    "# Groupby region and sum each alcohol beverage consumed over the years\n",
    "regions_df=russia_df.groupby('region')['wine','beer','vodka','champagne','brandy'].sum().reset_index()\n",
    "\n",
    "# Total alcohol consumed by each region\n",
    "regions_df['total_alcohol_consumption']=regions_df.sum(axis=1)\n",
    "\n",
    "#Sort top 11 regions which consumed maximum alcohol\n",
    "rank_df=regions_df.sort_values('total_alcohol_consumption',ascending=False).head(11)\n",
    "rank_df.set_index('region')"
   ]
  },
  {
   "cell_type": "markdown",
   "id": "17c3cd55-7b1b-4d90-aff5-bad113ed6dc4",
   "metadata": {},
   "source": [
    "Here we can see top 10 regions including Saint Petersburg which has a high alcohol consumption rate. Thus, the marketing team can target these regions as it has a similar buying habit as Saint Petersburg.Let's see top 10 regions for each type of alcohol and try to plot them."
   ]
  },
  {
   "cell_type": "code",
   "execution_count": 10,
   "id": "a955e220-41c1-4d68-82a6-1de803b8c0e4",
   "metadata": {},
   "outputs": [
    {
     "data": {
      "image/png": "[encoded data removed]",
      "text/plain": [
       "<Figure size 432x288 with 1 Axes>"
      ]
     },
     "metadata": {
      "needs_background": "light"
     },
     "output_type": "display_data"
    },
    {
     "data": {
      "image/png": "[encoded data removed]",
      "text/plain": [
       "<Figure size 432x288 with 1 Axes>"
      ]
     },
     "metadata": {
      "needs_background": "light"
     },
     "output_type": "display_data"
    },
    {
     "data": {
      "image/png": "[encoded data removed]",
      "text/plain": [
       "<Figure size 432x288 with 1 Axes>"
      ]
     },
     "metadata": {
      "needs_background": "light"
     },
     "output_type": "display_data"
    },
    {
     "data": {
      "image/png": "[encoded data removed]",
      "text/plain": [
       "<Figure size 432x288 with 1 Axes>"
      ]
     },
     "metadata": {
      "needs_background": "light"
     },
     "output_type": "display_data"
    },
    {
     "data": {
      "image/png": "[encoded data removed]",
      "text/plain": [
       "<Figure size 432x288 with 1 Axes>"
      ]
     },
     "metadata": {
      "needs_background": "light"
     },
     "output_type": "display_data"
    }
   ],
   "source": [
    "alcohol = ['wine','beer','vodka','champagne','brandy']\n",
    "for drink in alcohol:\n",
    "    sns.barplot(x = drink, y = regions_df.nlargest(11, drink).region, data = regions_df.nlargest(11, drink))\n",
    "    plt.title('Top 10 regions of ' + drink + ' consumption')\n",
    "    plt.ylabel('Region name')\n",
    "    plt.xlabel(drink + ' (liters per year per capita)')\n",
    "    plt.show()"
   ]
  },
  {
   "cell_type": "markdown",
   "id": "6b2585a0-71a4-4a0e-aa5e-154d34ad52a5",
   "metadata": {},
   "source": [
    "# Recommendations\n",
    "We have found 10 regions each with high buying trend per type of alcohol. We have also found top 10 regions as below with highest overall alcohol consumption. The marketing team can use strategies to target the regions mentioned below with overall high alcohol buying trend."
   ]
  },
  {
   "cell_type": "code",
   "execution_count": 11,
   "id": "efd2698d-7408-47dc-b0a0-f20635c7aca2",
   "metadata": {},
   "outputs": [
    {
     "data": {
      "text/html": [
       "<div>\n",
       "<style scoped>\n",
       "    .dataframe tbody tr th:only-of-type {\n",
       "        vertical-align: middle;\n",
       "    }\n",
       "\n",
       "    .dataframe tbody tr th {\n",
       "        vertical-align: top;\n",
       "    }\n",
       "\n",
       "    .dataframe thead th {\n",
       "        text-align: right;\n",
       "    }\n",
       "</style>\n",
       "<table border=\"1\" class=\"dataframe\">\n",
       "  <thead>\n",
       "    <tr style=\"text-align: right;\">\n",
       "      <th></th>\n",
       "      <th>region</th>\n",
       "      <th>wine</th>\n",
       "      <th>beer</th>\n",
       "      <th>vodka</th>\n",
       "      <th>champagne</th>\n",
       "      <th>brandy</th>\n",
       "      <th>total_alcohol_consumption</th>\n",
       "    </tr>\n",
       "  </thead>\n",
       "  <tbody>\n",
       "    <tr>\n",
       "      <th>33</th>\n",
       "      <td>Moscow</td>\n",
       "      <td>140.25</td>\n",
       "      <td>1590.08</td>\n",
       "      <td>361.42</td>\n",
       "      <td>83.34</td>\n",
       "      <td>23.90</td>\n",
       "      <td>2198.99</td>\n",
       "    </tr>\n",
       "    <tr>\n",
       "      <th>61</th>\n",
       "      <td>Saint Petersburg</td>\n",
       "      <td>132.10</td>\n",
       "      <td>1603.13</td>\n",
       "      <td>224.61</td>\n",
       "      <td>46.91</td>\n",
       "      <td>21.23</td>\n",
       "      <td>2027.98</td>\n",
       "    </tr>\n",
       "    <tr>\n",
       "      <th>82</th>\n",
       "      <td>Yamalo-Nenets Autonomous Okrug</td>\n",
       "      <td>100.93</td>\n",
       "      <td>1522.62</td>\n",
       "      <td>286.77</td>\n",
       "      <td>28.23</td>\n",
       "      <td>18.08</td>\n",
       "      <td>1956.63</td>\n",
       "    </tr>\n",
       "    <tr>\n",
       "      <th>75</th>\n",
       "      <td>Tyumen Oblast</td>\n",
       "      <td>105.30</td>\n",
       "      <td>1462.05</td>\n",
       "      <td>281.69</td>\n",
       "      <td>27.10</td>\n",
       "      <td>15.99</td>\n",
       "      <td>1892.13</td>\n",
       "    </tr>\n",
       "    <tr>\n",
       "      <th>23</th>\n",
       "      <td>Komi Republic</td>\n",
       "      <td>175.25</td>\n",
       "      <td>1249.14</td>\n",
       "      <td>392.43</td>\n",
       "      <td>32.25</td>\n",
       "      <td>15.39</td>\n",
       "      <td>1864.46</td>\n",
       "    </tr>\n",
       "    <tr>\n",
       "      <th>21</th>\n",
       "      <td>Khanty–Mansi Autonomous Okrug – Yugra</td>\n",
       "      <td>101.09</td>\n",
       "      <td>1403.06</td>\n",
       "      <td>285.23</td>\n",
       "      <td>27.49</td>\n",
       "      <td>17.56</td>\n",
       "      <td>1834.43</td>\n",
       "    </tr>\n",
       "    <tr>\n",
       "      <th>8</th>\n",
       "      <td>Chelyabinsk Oblast</td>\n",
       "      <td>131.94</td>\n",
       "      <td>1408.80</td>\n",
       "      <td>245.93</td>\n",
       "      <td>27.84</td>\n",
       "      <td>10.65</td>\n",
       "      <td>1825.16</td>\n",
       "    </tr>\n",
       "    <tr>\n",
       "      <th>80</th>\n",
       "      <td>Vologda Oblast</td>\n",
       "      <td>177.24</td>\n",
       "      <td>1276.93</td>\n",
       "      <td>327.14</td>\n",
       "      <td>16.29</td>\n",
       "      <td>9.84</td>\n",
       "      <td>1807.44</td>\n",
       "    </tr>\n",
       "    <tr>\n",
       "      <th>69</th>\n",
       "      <td>Sverdlovsk Oblast</td>\n",
       "      <td>140.27</td>\n",
       "      <td>1367.22</td>\n",
       "      <td>257.71</td>\n",
       "      <td>25.85</td>\n",
       "      <td>13.10</td>\n",
       "      <td>1804.15</td>\n",
       "    </tr>\n",
       "    <tr>\n",
       "      <th>12</th>\n",
       "      <td>Ivanovo Oblast</td>\n",
       "      <td>137.51</td>\n",
       "      <td>1387.02</td>\n",
       "      <td>234.84</td>\n",
       "      <td>17.97</td>\n",
       "      <td>7.05</td>\n",
       "      <td>1784.39</td>\n",
       "    </tr>\n",
       "    <tr>\n",
       "      <th>20</th>\n",
       "      <td>Khabarovsk Krai</td>\n",
       "      <td>99.19</td>\n",
       "      <td>1333.64</td>\n",
       "      <td>292.17</td>\n",
       "      <td>37.58</td>\n",
       "      <td>13.39</td>\n",
       "      <td>1775.97</td>\n",
       "    </tr>\n",
       "  </tbody>\n",
       "</table>\n",
       "</div>"
      ],
      "text/plain": [
       "                                   region    wine     beer   vodka  champagne  \\\n",
       "33                                 Moscow  140.25  1590.08  361.42      83.34   \n",
       "61                       Saint Petersburg  132.10  1603.13  224.61      46.91   \n",
       "82         Yamalo-Nenets Autonomous Okrug  100.93  1522.62  286.77      28.23   \n",
       "75                          Tyumen Oblast  105.30  1462.05  281.69      27.10   \n",
       "23                          Komi Republic  175.25  1249.14  392.43      32.25   \n",
       "21  Khanty–Mansi Autonomous Okrug – Yugra  101.09  1403.06  285.23      27.49   \n",
       "8                      Chelyabinsk Oblast  131.94  1408.80  245.93      27.84   \n",
       "80                         Vologda Oblast  177.24  1276.93  327.14      16.29   \n",
       "69                      Sverdlovsk Oblast  140.27  1367.22  257.71      25.85   \n",
       "12                         Ivanovo Oblast  137.51  1387.02  234.84      17.97   \n",
       "20                        Khabarovsk Krai   99.19  1333.64  292.17      37.58   \n",
       "\n",
       "    brandy  total_alcohol_consumption  \n",
       "33   23.90                    2198.99  \n",
       "61   21.23                    2027.98  \n",
       "82   18.08                    1956.63  \n",
       "75   15.99                    1892.13  \n",
       "23   15.39                    1864.46  \n",
       "21   17.56                    1834.43  \n",
       "8    10.65                    1825.16  \n",
       "80    9.84                    1807.44  \n",
       "69   13.10                    1804.15  \n",
       "12    7.05                    1784.39  \n",
       "20   13.39                    1775.97  "
      ]
     },
     "execution_count": 11,
     "metadata": {},
     "output_type": "execute_result"
    }
   ],
   "source": [
    "rank_df"
   ]
  },
  {
   "cell_type": "code",
   "execution_count": null,
   "id": "050a9bd0-702e-4703-81aa-405e4967aa02",
   "metadata": {},
   "outputs": [],
   "source": []
  }
 ],
 "metadata": {
  "colab": {
   "name": "Welcome to DataCamp Workspaces.ipynb",
   "provenance": []
  },
  "kernelspec": {
   "display_name": "Python 3 (ipykernel)",
   "language": "python",
   "name": "python3"
  },
  "language_info": {
   "codemirror_mode": {
    "name": "ipython",
    "version": 3
   },
   "file_extension": ".py",
   "mimetype": "text/x-python",
   "name": "python",
   "nbconvert_exporter": "python",
   "pygments_lexer": "ipython3",
   "version": "3.8.10"
  }
 },
 "nbformat": 4,
 "nbformat_minor": 5
}
